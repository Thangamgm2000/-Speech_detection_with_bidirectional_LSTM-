{
  "nbformat": 4,
  "nbformat_minor": 0,
  "metadata": {
    "colab": {
      "name": "Copy of Deployment of Model",
      "provenance": [],
      "collapsed_sections": [
        "zKxacD_ScsuL"
      ],
      "toc_visible": true
    },
    "kernelspec": {
      "name": "python3",
      "display_name": "Python 3"
    }
  },
  "cells": [
    {
      "cell_type": "markdown",
      "metadata": {
        "id": "jUYJjz3Kclnq",
        "colab_type": "text"
      },
      "source": [
        "#Loading The Model"
      ]
    },
    {
      "cell_type": "code",
      "metadata": {
        "id": "7mwzD9z1WYus",
        "colab_type": "code",
        "colab": {}
      },
      "source": [
        "from keras import models\n",
        "import numpy as np\n",
        "from sklearn.metrics import recall_score,precision_score,f1_score"
      ],
      "execution_count": 0,
      "outputs": []
    },
    {
      "cell_type": "code",
      "metadata": {
        "id": "IHOtO_wrWpAe",
        "colab_type": "code",
        "colab": {}
      },
      "source": [
        "path = 'drive/My Drive/Honeywell//'\n",
        "model_path = path + 'model_bidir0_935.h5'"
      ],
      "execution_count": 0,
      "outputs": []
    },
    {
      "cell_type": "code",
      "metadata": {
        "id": "EMysJv7IWsOf",
        "colab_type": "code",
        "colab": {}
      },
      "source": [
        "model = models.load_model(model_path)"
      ],
      "execution_count": 0,
      "outputs": []
    },
    {
      "cell_type": "code",
      "metadata": {
        "id": "gpXEGyBVWwh7",
        "colab_type": "code",
        "outputId": "be6ca82a-b4bc-479d-a1f7-d5bc5a136d11",
        "colab": {
          "base_uri": "https://localhost:8080/",
          "height": 442
        }
      },
      "source": [
        "model.summary()"
      ],
      "execution_count": 0,
      "outputs": [
        {
          "output_type": "stream",
          "text": [
            "_________________________________________________________________\n",
            "Layer (type)                 Output Shape              Param #   \n",
            "=================================================================\n",
            "input_8 (InputLayer)         (None, 1000, 80)          0         \n",
            "_________________________________________________________________\n",
            "conv1d_8 (Conv1D)            (None, 1000, 160)         12960     \n",
            "_________________________________________________________________\n",
            "batch_normalization_22 (Batc (None, 1000, 160)         640       \n",
            "_________________________________________________________________\n",
            "activation_8 (Activation)    (None, 1000, 160)         0         \n",
            "_________________________________________________________________\n",
            "bidirectional_7 (Bidirection (None, 1000, 256)         295936    \n",
            "_________________________________________________________________\n",
            "batch_normalization_23 (Batc (None, 1000, 256)         1024      \n",
            "_________________________________________________________________\n",
            "bidirectional_8 (Bidirection (None, 1000, 256)         394240    \n",
            "_________________________________________________________________\n",
            "batch_normalization_24 (Batc (None, 1000, 256)         1024      \n",
            "_________________________________________________________________\n",
            "time_distributed_8 (TimeDist (None, 1000, 1)           257       \n",
            "=================================================================\n",
            "Total params: 706,081\n",
            "Trainable params: 704,737\n",
            "Non-trainable params: 1,344\n",
            "_________________________________________________________________\n"
          ],
          "name": "stdout"
        }
      ]
    },
    {
      "cell_type": "markdown",
      "metadata": {
        "id": "IZAR02NEcxZ_",
        "colab_type": "text"
      },
      "source": [
        "#Prediction using the model"
      ]
    },
    {
      "cell_type": "code",
      "metadata": {
        "id": "j8lXORSnXA7V",
        "colab_type": "code",
        "colab": {}
      },
      "source": [
        "def get_y_pred(path,out1):\n",
        "  X = np.load(path)\n",
        "  sz = (X.shape[0]//1000)\n",
        "  X = X[:sz * 1000,:]\n",
        "  X = np.reshape(X,(sz,1000,80))\n",
        "  \n",
        "  y_pred = model.predict(X[:,:])\n",
        "  \n",
        "  y_pred = (y_pred>=0.5)*1\n",
        "  y_pred = y_pred.flatten()\n",
        "  \n",
        "  \n",
        "#   y_pred = np.array(y_pred,dtype=np.int8)\n",
        "  np.savetxt(out1,y_pred,fmt=\"%d\",newline=' ')\n",
        "  return y_pred"
      ],
      "execution_count": 0,
      "outputs": []
    },
    {
      "cell_type": "code",
      "metadata": {
        "id": "z7Aw4BJrXE6A",
        "colab_type": "code",
        "colab": {}
      },
      "source": [
        "def y_predToOut2(y_pred,out2):\n",
        "  s = y_pred\n",
        "  #fs = open(pathing + 'required_'+str(x)+'.txt','w+')\n",
        "  #print(s[0:100])\n",
        "  prev = \"\"\n",
        "  cur = s[0]\n",
        "  i = 1\n",
        "  flag = not(s[0])\n",
        "  start = 0\n",
        "  f = open(out2, \"w\")\n",
        "  print(len(s))\n",
        "  while(i!=len(s)):\n",
        "    prev = cur\n",
        "    cur = s[i]\n",
        "    if(prev!=cur):\n",
        "      if flag == 0:\n",
        "        flag = 1\n",
        "        #print(str(float(start)/100) + \" \"+ str(float(i)/100) + \" S\")\n",
        "        f.write(str(float(start)/100) + \" \"+ str(float(i)/100) + \" S\\n\")\n",
        "      else:\n",
        "        #print(str(float(start)/100) + \" \"+ str(float(i)/100) + \" NS\")\n",
        "        f.write(str(float(start)/100) + \" \"+ str(float(i)/100) + \" NS\\n\")\n",
        "        flag = 0\n",
        "      start  = i\n",
        "    \n",
        "    i+=1\n",
        "  if flag == 0:\n",
        "    flag = 1\n",
        "    #print(str(float(start)/100) + \" \"+ str(float(i)/100) + \" S\")\n",
        "    f.write(str(float(start)/100) + \" \"+ str(float(i)/100) + \" S\\n\")\n",
        "  else:\n",
        "    #print(str(float(start)/100) + \" \"+ str(float(i)/100) + \" NS\")\n",
        "    f.write(str(float(start)/100) + \" \"+ str(float(i)/100) + \" NS\\n\")\n",
        "    flag = 0"
      ],
      "execution_count": 0,
      "outputs": []
    },
    {
      "cell_type": "code",
      "metadata": {
        "id": "kmYU3B_RXGhI",
        "colab_type": "code",
        "colab": {}
      },
      "source": [
        "def predict(inp,out1,out2):\n",
        "  y_pred = get_y_pred(inp,out1)\n",
        "  y_predToOut2(y_pred,out2)"
      ],
      "execution_count": 0,
      "outputs": []
    },
    {
      "cell_type": "code",
      "metadata": {
        "id": "C1SuBvah6JiK",
        "colab_type": "code",
        "outputId": "cd198e61-cb46-412e-b0dd-d4fcef27254d",
        "colab": {
          "base_uri": "https://localhost:8080/",
          "height": 34
        }
      },
      "source": [
        "import os\n",
        "os.listdir()"
      ],
      "execution_count": 0,
      "outputs": [
        {
          "output_type": "execute_result",
          "data": {
            "text/plain": [
              "['.config', 'outputSnS.txt', 'drive', 'output1_0.txt', 'sample_data']"
            ]
          },
          "metadata": {
            "tags": []
          },
          "execution_count": 63
        }
      ]
    },
    {
      "cell_type": "code",
      "metadata": {
        "id": "E4PFkqI1ZNdR",
        "colab_type": "code",
        "outputId": "196bd545-f1b2-41b5-cc98-14ef533a9a1b",
        "colab": {
          "base_uri": "https://localhost:8080/",
          "height": 68
        }
      },
      "source": [
        "#inp = '/Edu/Hackathons/Honeywell/.npy'\n",
        "inp = 'drive/My Drive/newtest.npy'\n",
        "out1 = 'output1_0.txt'\n",
        "out2 = 'outputSnS.txt'\n",
        "predict(inp,out1,out2)"
      ],
      "execution_count": 0,
      "outputs": [
        {
          "output_type": "stream",
          "text": [
            "146\n",
            "(1, 146, 1)\n",
            "6146\n"
          ],
          "name": "stdout"
        }
      ]
    },
    {
      "cell_type": "code",
      "metadata": {
        "id": "LJtZxcDOcOCx",
        "colab_type": "code",
        "colab": {}
      },
      "source": [
        ""
      ],
      "execution_count": 0,
      "outputs": []
    },
    {
      "cell_type": "code",
      "metadata": {
        "id": "e8fZJb8NdVEp",
        "colab_type": "code",
        "colab": {}
      },
      "source": [
        ""
      ],
      "execution_count": 0,
      "outputs": []
    },
    {
      "cell_type": "markdown",
      "metadata": {
        "id": "zKxacD_ScsuL",
        "colab_type": "text"
      },
      "source": [
        "# Evaluation of Model"
      ]
    },
    {
      "cell_type": "code",
      "metadata": {
        "id": "gFxTPdlxWzl_",
        "colab_type": "code",
        "colab": {}
      },
      "source": [
        "# Load preprocessed training examples\n",
        "X = np.load(path + \"X_data.npy\")\n",
        "Y = np.load(path + 'Y_data.npy')\n",
        "shape_x = (1800,1000,80)\n",
        "X1 = np.reshape(X,shape_x)\n",
        "shape_y = (1800,1000,1)\n",
        "Y1 = np.reshape(Y,shape_y)"
      ],
      "execution_count": 0,
      "outputs": []
    },
    {
      "cell_type": "code",
      "metadata": {
        "id": "XOqOO7yfW1Us",
        "colab_type": "code",
        "outputId": "5c8402a1-5278-41f9-d94d-4518d8ea8b5e",
        "colab": {
          "base_uri": "https://localhost:8080/",
          "height": 50
        }
      },
      "source": [
        "# Load preprocessed dev set examples\n",
        "X_dev1 = np.load(\"newtest.npy\")\n",
        "Y_dev1 = np.load('newtest_labels.npy')\n",
        "\n",
        "shape_x = (6,1000,80)\n",
        "shape_y = (6,1000,1)\n",
        "\n",
        "X_dev1 = np.reshape(X_dev1[:6000,:],shape_x)\n",
        "Y_dev1 = np.reshape(Y_dev1[:6000,:],shape_y)\n",
        "print(X_dev1.shape)\n",
        "Y_dev1.shape"
      ],
      "execution_count": 0,
      "outputs": [
        {
          "output_type": "stream",
          "text": [
            "(6, 1000, 80)\n"
          ],
          "name": "stdout"
        },
        {
          "output_type": "execute_result",
          "data": {
            "text/plain": [
              "(6, 1000, 1)"
            ]
          },
          "metadata": {
            "tags": []
          },
          "execution_count": 30
        }
      ]
    },
    {
      "cell_type": "code",
      "metadata": {
        "id": "SiLbT_POW2jy",
        "colab_type": "code",
        "outputId": "0bde47f5-0b3a-46f9-cc7d-2879649b7a2a",
        "colab": {
          "base_uri": "https://localhost:8080/",
          "height": 50
        }
      },
      "source": [
        "# Load preprocessed dev set examples\n",
        "X_dev2 = np.load(path + \"X_dev2.npy\")\n",
        "Y_dev2 = np.load(path + 'Y_dev2.npy')\n",
        "\n",
        "shape_x = (54,1000,80)\n",
        "shape_y = (54,1000,1)\n",
        "\n",
        "X_dev2 = np.reshape(X_dev2[:54000,:],shape_x)\n",
        "Y_dev2 = np.reshape(Y_dev2[:54000,:],shape_y)\n",
        "print(X_dev2.shape)\n",
        "Y_dev2.shape"
      ],
      "execution_count": 0,
      "outputs": [
        {
          "output_type": "stream",
          "text": [
            "(54, 1000, 80)\n"
          ],
          "name": "stdout"
        },
        {
          "output_type": "execute_result",
          "data": {
            "text/plain": [
              "(54, 1000, 1)"
            ]
          },
          "metadata": {
            "tags": []
          },
          "execution_count": 13
        }
      ]
    },
    {
      "cell_type": "code",
      "metadata": {
        "id": "q_O6EhEjW526",
        "colab_type": "code",
        "outputId": "7b3c0b2e-0a2a-4f85-bbe8-b562bd7380ed",
        "colab": {
          "base_uri": "https://localhost:8080/",
          "height": 100
        }
      },
      "source": [
        "loss, acc = model.evaluate(X1[:,:,:], Y1[:,:,:])\n",
        "print(\"Train set accuracy = \", acc)\n",
        "\n",
        "y_pred = model.predict(X1[:,:])\n",
        "y_true = Y1.flatten()\n",
        "\n",
        "y_pred = (y_pred>=0.5)*1\n",
        "y_pred = y_pred.flatten()\n",
        "print('Precision Score = ',precision_score(y_true, y_pred))\n",
        "print('Recall Score = ',recall_score(y_true, y_pred))\n",
        "print('F1 Score = ',f1_score(y_true, y_pred))"
      ],
      "execution_count": 0,
      "outputs": [
        {
          "output_type": "stream",
          "text": [
            "1800/1800 [==============================] - 72s 40ms/step\n",
            "Train set accuracy =  0.9399661127726237\n",
            "Precision Score =  0.9285696738714647\n",
            "Recall Score =  0.8870944760059207\n",
            "F1 Score =  0.9073583661754001\n"
          ],
          "name": "stdout"
        }
      ]
    },
    {
      "cell_type": "code",
      "metadata": {
        "id": "L0pZVPqdW7WK",
        "colab_type": "code",
        "outputId": "6cb6458a-7c5c-450f-ad1e-f98aa0905c9c",
        "colab": {
          "base_uri": "https://localhost:8080/",
          "height": 100
        }
      },
      "source": [
        "loss, acc = model.evaluate(X_dev1[:,:,:], Y_dev1[:,:,:])\n",
        "print(\"Dev set accuracy = \", acc)\n",
        "\n",
        "y_pred = model.predict(X_dev1[:,:])\n",
        "y_pred = (y_pred>=0.5)*1\n",
        "y_pred = y_pred.flatten()\n",
        "y_true = Y_dev1.flatten()\n",
        "print('Precision Score = ',precision_score(y_true, y_pred))\n",
        "print('Recall Score = ',recall_score(y_true, y_pred))\n",
        "print('F1 Score = ',f1_score(y_true, y_pred))"
      ],
      "execution_count": 0,
      "outputs": [
        {
          "output_type": "stream",
          "text": [
            "\r6/6 [==============================] - 1s 208ms/step\n",
            "Dev set accuracy =  0.9163333177566528\n",
            "Precision Score =  0.8019846639603068\n",
            "Recall Score =  0.9657794676806084\n",
            "F1 Score =  0.8762937407589947\n"
          ],
          "name": "stdout"
        }
      ]
    },
    {
      "cell_type": "code",
      "metadata": {
        "id": "pbmUj-tKW8pz",
        "colab_type": "code",
        "outputId": "46a5548c-d60e-4f7a-907e-87f6cc62bce3",
        "colab": {
          "base_uri": "https://localhost:8080/",
          "height": 100
        }
      },
      "source": [
        "loss, acc = model.evaluate(X_dev2[:,:,:], Y_dev2[:,:,:])\n",
        "print(\"Dev set accuracy = \", acc)\n",
        "\n",
        "y_pred = model.predict(X_dev2[:,:])\n",
        "y_true = Y_dev2.flatten()\n",
        "\n",
        "y_pred = (y_pred>=0.5)*1\n",
        "y_pred = y_pred.flatten()\n",
        "print('Precision Score = ',precision_score(y_true, y_pred))\n",
        "print('Recall Score = ',recall_score(y_true, y_pred))\n",
        "print('F1 Score = ',f1_score(y_true, y_pred))"
      ],
      "execution_count": 0,
      "outputs": [
        {
          "output_type": "stream",
          "text": [
            "54/54 [==============================] - 2s 38ms/step\n",
            "Dev set accuracy =  0.8891481536406057\n",
            "Precision Score =  0.8701412632715494\n",
            "Recall Score =  0.9945238584944467\n",
            "F1 Score =  0.9281840867645648\n"
          ],
          "name": "stdout"
        }
      ]
    }
  ]
}