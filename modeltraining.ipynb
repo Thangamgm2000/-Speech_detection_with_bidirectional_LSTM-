{
  "nbformat": 4,
  "nbformat_minor": 0,
  "metadata": {
    "coursera": {
      "course_slug": "nlp-sequence-models",
      "graded_item_id": "rSupZ",
      "launcher_item_id": "cvGhe"
    },
    "kernelspec": {
      "name": "python3",
      "display_name": "Python 3"
    },
    "language_info": {
      "codemirror_mode": {
        "name": "ipython",
        "version": 3
      },
      "file_extension": ".py",
      "mimetype": "text/x-python",
      "name": "python",
      "nbconvert_exporter": "python",
      "pygments_lexer": "ipython3",
      "version": "3.6.0"
    },
    "colab": {
      "name": "gru.ipynb",
      "provenance": [],
      "collapsed_sections": [
        "redpyOvN9_Vu"
      ]
    },
    "accelerator": "GPU"
  },
  "cells": [
    {
      "cell_type": "code",
      "metadata": {
        "id": "-mQgRPoC9_Sc",
        "colab_type": "code",
        "colab": {}
      },
      "source": [
        "import numpy as np\n",
        "#from pydub import AudioSegment\n",
        "import random\n",
        "import sys\n",
        "import io\n",
        "import os\n",
        "import glob\n",
        "import IPython\n",
        "#from td_utils import *\n",
        "%matplotlib inline"
      ],
      "execution_count": 0,
      "outputs": []
    },
    {
      "cell_type": "code",
      "metadata": {
        "colab_type": "code",
        "id": "P3JJo7edt9AW",
        "colab": {}
      },
      "source": [
        "path = \"/content/drive/My Drive/Artificial-Intelligence/Honeywell//\""
      ],
      "execution_count": 0,
      "outputs": []
    },
    {
      "cell_type": "code",
      "metadata": {
        "colab_type": "code",
        "id": "70vTrIlRt9AD",
        "colab": {}
      },
      "source": [
        "Tx = 1000 # The number of time steps input to the model from the spectrogram\n",
        "n_freq = 80 # Number of frequencies input to the model at each time step of the spectrogram"
      ],
      "execution_count": 0,
      "outputs": []
    },
    {
      "cell_type": "code",
      "metadata": {
        "colab_type": "code",
        "id": "osxhg_Cyt9AA",
        "colab": {}
      },
      "source": [
        "Ty = 1000 # The number of time steps in the output of our model"
      ],
      "execution_count": 0,
      "outputs": []
    },
    {
      "cell_type": "code",
      "metadata": {
        "colab_type": "code",
        "id": "9KESn1ret8_G",
        "colab": {}
      },
      "source": [
        ""
      ],
      "execution_count": 0,
      "outputs": []
    },
    {
      "cell_type": "code",
      "metadata": {
        "colab_type": "code",
        "id": "CV8WxIPSt8-_",
        "colab": {}
      },
      "source": [
        "# Load preprocessed training examples\n",
        "X = np.load(path + \"X_data.npy\")\n",
        "Y = np.load(path + 'Y_data.npy')\n",
        "\n",
        "mx = np.max(X,axis=0)\n",
        "X = X/mx\n",
        "\n",
        "shape_x = (1800,1000,80)\n",
        "X1 = np.reshape(X,shape_x)\n",
        "shape_y = (1800,1000,1)\n",
        "Y1 = np.reshape(Y,shape_y)"
      ],
      "execution_count": 0,
      "outputs": []
    },
    {
      "cell_type": "code",
      "metadata": {
        "colab_type": "code",
        "id": "Yw8oinyIt8-4",
        "colab": {}
      },
      "source": [
        "np.save('max-model-norm.npy',mx)"
      ],
      "execution_count": 0,
      "outputs": []
    },
    {
      "cell_type": "code",
      "metadata": {
        "colab_type": "code",
        "outputId": "86f20f21-f563-4f86-98ae-d4b2088a07c6",
        "id": "LSw_UaU6t8-x",
        "colab": {
          "base_uri": "https://localhost:8080/",
          "height": 33
        }
      },
      "source": [
        "print(X1.shape,Y1.shape)"
      ],
      "execution_count": 0,
      "outputs": [
        {
          "output_type": "stream",
          "text": [
            "(1800, 1000, 80) (1800, 1000, 1)\n"
          ],
          "name": "stdout"
        }
      ]
    },
    {
      "cell_type": "code",
      "metadata": {
        "colab_type": "code",
        "id": "szGD_8Wst8-n",
        "colab": {}
      },
      "source": [
        ""
      ],
      "execution_count": 0,
      "outputs": []
    },
    {
      "cell_type": "markdown",
      "metadata": {
        "id": "q1WP8Mof9_U3",
        "colab_type": "text"
      },
      "source": [
        "# 2 - Model\n",
        "\n",
        "Now that you've built a dataset, lets write and train a trigger word detection model! \n",
        "\n",
        "The model will use 1-D convolutional layers, GRU layers, and dense layers. Let's load the packages that will allow you to use these layers in Keras. This might take a minute to load. "
      ]
    },
    {
      "cell_type": "code",
      "metadata": {
        "id": "32n4dAkz9_U4",
        "colab_type": "code",
        "outputId": "00dc4f2d-38c6-42d8-d498-4012da3a4b42",
        "colab": {
          "base_uri": "https://localhost:8080/",
          "height": 33
        }
      },
      "source": [
        "from keras.callbacks import ModelCheckpoint\n",
        "from keras.models import Model, load_model, Sequential\n",
        "from keras.layers import Dense, Activation, Dropout, Input, Masking, TimeDistributed, LSTM, Conv1D\n",
        "from keras.layers import GRU, Bidirectional, BatchNormalization, Reshape\n",
        "from keras.optimizers import Adam"
      ],
      "execution_count": 0,
      "outputs": [
        {
          "output_type": "stream",
          "text": [
            "Using TensorFlow backend.\n"
          ],
          "name": "stderr"
        }
      ]
    },
    {
      "cell_type": "code",
      "metadata": {
        "id": "4bmlRzjA9_U-",
        "colab_type": "code",
        "colab": {}
      },
      "source": [
        "# GRADED FUNCTION: model\n",
        "\n",
        "def model(input_shape):\n",
        "    \"\"\"\n",
        "    Function creating the model's graph in Keras.\n",
        "    \n",
        "    Argument:\n",
        "    input_shape -- shape of the model's input data (using Keras conventions)\n",
        "\n",
        "    Returns:\n",
        "    model -- Keras model instance\n",
        "    \"\"\"\n",
        "    \n",
        "    X_input = Input(shape = input_shape)\n",
        "    \n",
        "    ### START CODE HERE ###\n",
        "    \n",
        "    # Step 1: CONV layer (≈4 lines)\n",
        "    X = Conv1D(160,1,strides=1)(X_input)                                 # CONV1D\n",
        "    X = BatchNormalization()(X)                                 # Batch normalization\n",
        "    X = Activation('relu')(X)                                 # ReLu activation\n",
        "    #X = Dropout(0.8)(X)                                 # dropout (use 0.8)\n",
        "\n",
        "    # Step 2: First GRU Layer (≈4 lines)\n",
        "    X = GRU(128,return_sequences = True)(X)                            # GRU (use 128 units and return the sequences)\n",
        "    #X = Dropout(0.8)(X)                               # dropout (use 0.8)\n",
        "    X = BatchNormalization()(X)                                # Batch normalization\n",
        "    \n",
        "    # Step 3: Second GRU Layer (≈4 lines)\n",
        "    X = GRU(128,return_sequences=True)(X)                               # GRU (use 128 units and return the sequences)\n",
        "#     X = Dropout(0.8)(X)                                 # dropout (use 0.8)\n",
        "    X = BatchNormalization()(X)                                 # Batch normalization\n",
        "#     X = Dropout(0.8)(X)                                 # dropout (use 0.8)\n",
        "\n",
        "    \n",
        "    # Step 4: Time-distributed dense layer (≈1 line)\n",
        "    X = TimeDistributed(Dense(1, activation = \"sigmoid\"))(X) # time distributed  (sigmoid)\n",
        "\n",
        "    ### END CODE HERE ###\n",
        "\n",
        "    model = Model(inputs = X_input, outputs = X)\n",
        "    \n",
        "    return model  "
      ],
      "execution_count": 0,
      "outputs": []
    },
    {
      "cell_type": "code",
      "metadata": {
        "id": "uqhMLha59_VD",
        "colab_type": "code",
        "colab": {}
      },
      "source": [
        "model = model(input_shape = (Tx, n_freq))"
      ],
      "execution_count": 0,
      "outputs": []
    },
    {
      "cell_type": "markdown",
      "metadata": {
        "id": "-oVGQX5u9_VG",
        "colab_type": "text"
      },
      "source": [
        "Let's print the model summary to keep track of the shapes."
      ]
    },
    {
      "cell_type": "code",
      "metadata": {
        "id": "j7caWN4Q9_VH",
        "colab_type": "code",
        "outputId": "be504e73-f651-46a0-b2a5-282bb197dd48",
        "colab": {
          "base_uri": "https://localhost:8080/",
          "height": 435
        }
      },
      "source": [
        "model.summary()"
      ],
      "execution_count": 0,
      "outputs": [
        {
          "output_type": "stream",
          "text": [
            "_________________________________________________________________\n",
            "Layer (type)                 Output Shape              Param #   \n",
            "=================================================================\n",
            "input_3 (InputLayer)         (None, 1000, 80)          0         \n",
            "_________________________________________________________________\n",
            "conv1d_3 (Conv1D)            (None, 1000, 160)         12960     \n",
            "_________________________________________________________________\n",
            "batch_normalization_9 (Batch (None, 1000, 160)         640       \n",
            "_________________________________________________________________\n",
            "activation_3 (Activation)    (None, 1000, 160)         0         \n",
            "_________________________________________________________________\n",
            "gru_7 (GRU)                  (None, 1000, 128)         110976    \n",
            "_________________________________________________________________\n",
            "batch_normalization_10 (Batc (None, 1000, 128)         512       \n",
            "_________________________________________________________________\n",
            "gru_8 (GRU)                  (None, 1000, 128)         98688     \n",
            "_________________________________________________________________\n",
            "batch_normalization_11 (Batc (None, 1000, 128)         512       \n",
            "_________________________________________________________________\n",
            "time_distributed_3 (TimeDist (None, 1000, 1)           129       \n",
            "=================================================================\n",
            "Total params: 224,417\n",
            "Trainable params: 223,585\n",
            "Non-trainable params: 832\n",
            "_________________________________________________________________\n"
          ],
          "name": "stdout"
        }
      ]
    },
    {
      "cell_type": "markdown",
      "metadata": {
        "id": "q9P-_ze49_VM",
        "colab_type": "text"
      },
      "source": [
        "**Expected Output**:\n",
        "\n",
        "<table>\n",
        "    <tr>\n",
        "        <td>\n",
        "            **Total params**\n",
        "        </td>\n",
        "        <td>\n",
        "           522,561\n",
        "        </td>\n",
        "    </tr>\n",
        "    <tr>\n",
        "        <td>\n",
        "            **Trainable params**\n",
        "        </td>\n",
        "        <td>\n",
        "           521,657\n",
        "        </td>\n",
        "    </tr>\n",
        "    <tr>\n",
        "        <td>\n",
        "            **Non-trainable params**\n",
        "        </td>\n",
        "        <td>\n",
        "           904\n",
        "        </td>\n",
        "    </tr>\n",
        "</table>"
      ]
    },
    {
      "cell_type": "markdown",
      "metadata": {
        "id": "6AvP8sAL9_VN",
        "colab_type": "text"
      },
      "source": [
        "The output of the network is of shape (None, 1375, 1) while the input is (None, 5511, 101). The Conv1D has reduced the number of steps from 5511 at spectrogram to 1375. "
      ]
    },
    {
      "cell_type": "markdown",
      "metadata": {
        "id": "xFDvGt2T9_VO",
        "colab_type": "text"
      },
      "source": [
        "## 2.2 - Fit the model"
      ]
    },
    {
      "cell_type": "markdown",
      "metadata": {
        "id": "zJmBU6dk9_VQ",
        "colab_type": "text"
      },
      "source": [
        "Trigger word detection takes a long time to train. To save time, we've already trained a model for about 3 hours on a GPU using the architecture you built above, and a large training set of about 4000 examples. Let's load the model. "
      ]
    },
    {
      "cell_type": "markdown",
      "metadata": {
        "id": "ZatsqcJf9_VT",
        "colab_type": "text"
      },
      "source": [
        "You can train the model further, using the Adam optimizer and binary cross entropy loss, as follows. This will run quickly because we are training just for one epoch and with a small training set of 26 examples. "
      ]
    },
    {
      "cell_type": "code",
      "metadata": {
        "id": "xR-Q80q89_VU",
        "colab_type": "code",
        "colab": {}
      },
      "source": [
        "opt = Adam(lr=0.001, beta_1=0.9, beta_2=0.999, decay=0.01)\n",
        "model.compile(loss='binary_crossentropy', optimizer=opt, metrics=[\"accuracy\"])"
      ],
      "execution_count": 0,
      "outputs": []
    },
    {
      "cell_type": "code",
      "metadata": {
        "id": "dAQeDlhZ9_VY",
        "colab_type": "code",
        "outputId": "7d18bced-8bac-4ead-d919-371f6a79c38f",
        "colab": {
          "base_uri": "https://localhost:8080/",
          "height": 184
        }
      },
      "source": [
        "hist1 = model.fit(X1[:,:,:], Y1[:,:,:], batch_size = 32, epochs=5)"
      ],
      "execution_count": 0,
      "outputs": [
        {
          "output_type": "stream",
          "text": [
            "Epoch 1/5\n",
            "1800/1800 [==============================] - 137s 76ms/step - loss: 0.3401 - acc: 0.8750\n",
            "Epoch 2/5\n",
            "1800/1800 [==============================] - 135s 75ms/step - loss: 0.2517 - acc: 0.9085\n",
            "Epoch 3/5\n",
            "1800/1800 [==============================] - 135s 75ms/step - loss: 0.2323 - acc: 0.9127\n",
            "Epoch 4/5\n",
            "1800/1800 [==============================] - 135s 75ms/step - loss: 0.2185 - acc: 0.9184\n",
            "Epoch 5/5\n",
            "1800/1800 [==============================] - 135s 75ms/step - loss: 0.2145 - acc: 0.9207\n"
          ],
          "name": "stdout"
        }
      ]
    },
    {
      "cell_type": "code",
      "metadata": {
        "id": "4qBitRothSNv",
        "colab_type": "code",
        "colab": {}
      },
      "source": [
        "model.save('model-norm.h5')"
      ],
      "execution_count": 0,
      "outputs": []
    },
    {
      "cell_type": "code",
      "metadata": {
        "id": "HNN6ikwnH1b7",
        "colab_type": "code",
        "outputId": "455d093c-8f35-40d7-9566-94d8bc183396",
        "colab": {
          "base_uri": "https://localhost:8080/",
          "height": 33
        }
      },
      "source": [
        "path_x = 'Edu\\Hackathons\\Honeywell\\TestData\\edit.npy'\n",
        "X_dev = np.load(path_x)\n",
        "path_y = 'Edu\\Hackathons\\Honeywell\\TestData\\edit_labels.npy'\n",
        "Y_dev = np.load(path_y)\n",
        "X_dev1 = X_dev[:135000,:]\n",
        "Y_dev1 = Y_dev[:135000,:]\n",
        "X_dev1 = np.reshape(X_dev1,(135,1000,80))\n",
        "Y_dev1 = np.reshape(Y_dev1,(135,1000,1))\n",
        "print(X_dev1.shape,Y_dev1.shape)"
      ],
      "execution_count": 0,
      "outputs": [
        {
          "output_type": "stream",
          "text": [
            "(135, 1000, 80) (135, 1000, 1)\n"
          ],
          "name": "stdout"
        }
      ]
    },
    {
      "cell_type": "code",
      "metadata": {
        "id": "E2x4jMYCb38p",
        "colab_type": "code",
        "colab": {}
      },
      "source": [
        "# Load preprocessed training examples\n",
        "X = np.load(path + \"X_data.npy\")\n",
        "Y = np.load(path + 'Y_data.npy')\n",
        "shape_x = (1800,1000,80)\n",
        "X1 = np.reshape(X,shape_x)\n",
        "shape_y = (1800,1000,1)\n",
        "Y1 = np.reshape(Y,shape_y)"
      ],
      "execution_count": 0,
      "outputs": []
    },
    {
      "cell_type": "code",
      "metadata": {
        "id": "-Hpk1BQWbRr-",
        "colab_type": "code",
        "outputId": "2cf44012-e09c-4481-f43e-53e1c542a70b",
        "colab": {
          "base_uri": "https://localhost:8080/",
          "height": 572
        }
      },
      "source": [
        "import matplotlib.pyplot as plt\n",
        "\n",
        "\n",
        "\n",
        "# Plot training & validation accuracy values\n",
        "plt.plot(hist1.history['acc'])\n",
        "#plt.plot(history.history['val_acc'])\n",
        "plt.title('Model accuracy')\n",
        "plt.ylabel('Accuracy')\n",
        "plt.xlabel('Epoch')\n",
        "plt.legend(['Train', 'Test'], loc='upper left')\n",
        "plt.show()\n",
        "\n",
        "# Plot training & validation loss values\n",
        "plt.plot(hist1.history['loss'])\n",
        "#plt.plot(history.history['val_loss'])\n",
        "plt.title('Model loss')\n",
        "plt.ylabel('Loss')\n",
        "plt.xlabel('Epoch')\n",
        "plt.legend(['Train'], loc='upper left')\n",
        "plt.show()"
      ],
      "execution_count": 0,
      "outputs": [
        {
          "output_type": "display_data",
          "data": {
            "text/plain": [
              "<Figure size 432x288 with 1 Axes>"
            ],
            "image/png": "[encoded data removed]"
          },
          "metadata": {
            "tags": []
          }
        },
        {
          "output_type": "display_data",
          "data": {
            "text/plain": [
              "<Figure size 432x288 with 1 Axes>"
            ],
            "image/png": "[encoded data removed]"
          },
          "metadata": {
            "tags": []
          }
        }
      ]
    },
    {
      "cell_type": "markdown",
      "metadata": {
        "id": "nLaI17mS9_Vd",
        "colab_type": "text"
      },
      "source": [
        "## 2.3 - Test the model\n",
        "\n",
        "Finally, let's see how your model performs on the dev set."
      ]
    },
    {
      "cell_type": "code",
      "metadata": {
        "id": "43qQIk3SYkw-",
        "colab_type": "code",
        "outputId": "dc2323ac-5526-4732-c328-2ffacabf0c48",
        "colab": {
          "base_uri": "https://localhost:8080/",
          "height": 50
        }
      },
      "source": [
        "# Load preprocessed dev set examples\n",
        "X_dev = np.load(path + \"X\\FS_P01_dev_022.npy\")\n",
        "Y_dev = np.load(path + 'Y\\FS_P01_dev_022_labels.npy')\n",
        "\n",
        "X_dev1 = np.reshape(X_dev[:180000,:],shape_x)\n",
        "Y_dev1 = np.reshape(Y_dev[:180000,:],shape_y)\n",
        "print(X_dev1.shape)\n",
        "Y_dev1.shape"
      ],
      "execution_count": 0,
      "outputs": [
        {
          "output_type": "stream",
          "text": [
            "(180, 1000, 80)\n"
          ],
          "name": "stdout"
        },
        {
          "output_type": "execute_result",
          "data": {
            "text/plain": [
              "(180, 1000, 1)"
            ]
          },
          "metadata": {
            "tags": []
          },
          "execution_count": 111
        }
      ]
    },
    {
      "cell_type": "code",
      "metadata": {
        "id": "l4cKBz5gJd3G",
        "colab_type": "code",
        "colab": {}
      },
      "source": [
        "model0 = keras.models.load_model('Edu\\Hackathons\\Honeywell\\model.h5')"
      ],
      "execution_count": 0,
      "outputs": []
    },
    {
      "cell_type": "code",
      "metadata": {
        "id": "wdPtzc659_Vg",
        "colab_type": "code",
        "outputId": "87a25ab4-887d-47af-9e5b-37946e3c5360",
        "colab": {
          "base_uri": "https://localhost:8080/",
          "height": 50
        }
      },
      "source": [
        "loss, acc = model.evaluate(X1[0:1,:,:], Y1[0:1,:,:])\n",
        "print(\"Dev set accuracy = \", acc)"
      ],
      "execution_count": 0,
      "outputs": [
        {
          "output_type": "stream",
          "text": [
            "\r1/1 [==============================] - 0s 318ms/step\n",
            "Dev set accuracy =  0.8669999837875366\n"
          ],
          "name": "stdout"
        }
      ]
    },
    {
      "cell_type": "code",
      "metadata": {
        "id": "3asvBRnSdPuu",
        "colab_type": "code",
        "outputId": "93caf41b-9c02-410f-d4ce-f182161156a1",
        "colab": {
          "base_uri": "https://localhost:8080/",
          "height": 33
        }
      },
      "source": [
        "Y1.shape"
      ],
      "execution_count": 0,
      "outputs": [
        {
          "output_type": "execute_result",
          "data": {
            "text/plain": [
              "(1800, 1000, 1)"
            ]
          },
          "metadata": {
            "tags": []
          },
          "execution_count": 207
        }
      ]
    },
    {
      "cell_type": "code",
      "metadata": {
        "id": "VqyLYPibarYB",
        "colab_type": "code",
        "outputId": "58ac9edc-d35c-41b0-c016-8234c1acb913",
        "colab": {
          "base_uri": "https://localhost:8080/",
          "height": 33
        }
      },
      "source": [
        "y_pred = model.predict(X_dev1[:,:,:])\n",
        "y_pred.shape"
      ],
      "execution_count": 0,
      "outputs": [
        {
          "output_type": "execute_result",
          "data": {
            "text/plain": [
              "(135, 1000, 1)"
            ]
          },
          "metadata": {
            "tags": []
          },
          "execution_count": 220
        }
      ]
    },
    {
      "cell_type": "code",
      "metadata": {
        "id": "_MDdeJL5gqfr",
        "colab_type": "code",
        "outputId": "327a3b80-1b6f-4e60-af67-b2e654058e13",
        "colab": {
          "base_uri": "https://localhost:8080/",
          "height": 234
        }
      },
      "source": [
        ""
      ],
      "execution_count": 0,
      "outputs": [
        {
          "output_type": "execute_result",
          "data": {
            "text/plain": [
              "array([[0.80149436, 0.9588386 , 0.98469377, ..., 0.37236267, 0.31554633,\n",
              "        0.28495687],\n",
              "       [0.2873343 , 0.17225912, 0.13853967, ..., 0.9994378 , 0.998911  ,\n",
              "        0.99912405],\n",
              "       [0.8765099 , 0.94664073, 0.9659317 , ..., 0.06416044, 0.06459859,\n",
              "        0.05694959],\n",
              "       ...,\n",
              "       [0.24891904, 0.16527504, 0.10731554, ..., 0.04436988, 0.043836  ,\n",
              "        0.0452995 ],\n",
              "       [0.31063086, 0.19955441, 0.1367931 , ..., 0.69649583, 0.6338048 ,\n",
              "        0.6074967 ],\n",
              "       [0.35336393, 0.26908082, 0.22005925, ..., 0.07896721, 0.08160043,\n",
              "        0.07800585]], dtype=float32)"
            ]
          },
          "metadata": {
            "tags": []
          },
          "execution_count": 212
        }
      ]
    },
    {
      "cell_type": "code",
      "metadata": {
        "id": "WJEJ8jZnhWPI",
        "colab_type": "code",
        "colab": {}
      },
      "source": [
        "y_pred = (y_pred>=0.5)*1\n",
        "y_pred = y_pred.flatten()\n",
        "Y_true = Y_dev1.flatten()"
      ],
      "execution_count": 0,
      "outputs": []
    },
    {
      "cell_type": "code",
      "metadata": {
        "id": "UD1n9Or7WJSv",
        "colab_type": "code",
        "outputId": "3b3004a0-47ff-444b-8f90-763a572f22d5",
        "colab": {
          "base_uri": "https://localhost:8080/",
          "height": 67
        }
      },
      "source": [
        "from sklearn.metrics import recall_score,precision_score,f1_score\n",
        "print('Precision Score = ',precision_score(Y_true, y_pred))\n",
        "print('Recall Score = ',recall_score(Y_true, y_pred))\n",
        "print('F1 Score = ',f1_score(Y_true, y_pred))"
      ],
      "execution_count": 0,
      "outputs": [
        {
          "output_type": "stream",
          "text": [
            "Precision Score =  0.8505683818948471\n",
            "Recall Score =  0.9926554267650158\n",
            "F1 Score =  0.9161354320141208\n"
          ],
          "name": "stdout"
        }
      ]
    },
    {
      "cell_type": "code",
      "metadata": {
        "id": "bVzAodWzg9gY",
        "colab_type": "code",
        "colab": {}
      },
      "source": [
        ""
      ],
      "execution_count": 0,
      "outputs": []
    },
    {
      "cell_type": "code",
      "metadata": {
        "id": "B2k0mi5GWJlL",
        "colab_type": "code",
        "outputId": "0a337a70-8798-42d1-c0a3-ec9ecc9891d5",
        "colab": {
          "base_uri": "https://localhost:8080/",
          "height": 184
        }
      },
      "source": [
        "Y1[0,680:690,:]"
      ],
      "execution_count": 0,
      "outputs": [
        {
          "output_type": "execute_result",
          "data": {
            "text/plain": [
              "array([[1],\n",
              "       [1],\n",
              "       [1],\n",
              "       [1],\n",
              "       [1],\n",
              "       [1],\n",
              "       [1],\n",
              "       [1],\n",
              "       [1],\n",
              "       [1]])"
            ]
          },
          "metadata": {
            "tags": []
          },
          "execution_count": 202
        }
      ]
    }
  ]
}
